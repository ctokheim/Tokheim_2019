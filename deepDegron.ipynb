{
 "cells": [
  {
   "cell_type": "markdown",
   "metadata": {},
   "source": [
    "## deepDegron\n",
    "\n",
    "In this notebook, we examine genes that contain an enichment of degron-loss mutations according to deepDegron."
   ]
  },
  {
   "cell_type": "code",
   "execution_count": 2,
   "metadata": {},
   "outputs": [],
   "source": [
    "# import needed packages\n",
    "import warnings\n",
    "warnings.filterwarnings(\"ignore\")\n",
    "%matplotlib inline\n",
    "import matplotlib.style\n",
    "import matplotlib as mpl\n",
    "mpl.style.use('classic')\n",
    "import pandas as pd\n",
    "import seaborn as sns\n",
    "sns.set()\n",
    "import matplotlib.pyplot as plt\n",
    "import numpy as np\n",
    "import glob\n",
    "import os\n",
    "import scipy.stats as stats\n",
    "import matplotlib as mpl\n",
    "from matplotlib_venn import venn2, venn2_circles\n",
    "mpl.rcParams['pdf.fonttype'] = 42\n",
    "import utils\n",
    "import rpy2\n",
    "%load_ext rpy2.ipython"
   ]
  },
  {
   "cell_type": "markdown",
   "metadata": {},
   "source": [
    "### C-terminal degron analysis\n",
    "\n",
    "We first see whether c-terminal degrons may be preferentially lost due to mutations in cancer."
   ]
  },
  {
   "cell_type": "code",
   "execution_count": 14,
   "metadata": {},
   "outputs": [
    {
     "data": {
      "text/html": [
       "<div>\n",
       "<style scoped>\n",
       "    .dataframe tbody tr th:only-of-type {\n",
       "        vertical-align: middle;\n",
       "    }\n",
       "\n",
       "    .dataframe tbody tr th {\n",
       "        vertical-align: top;\n",
       "    }\n",
       "\n",
       "    .dataframe thead th {\n",
       "        text-align: right;\n",
       "    }\n",
       "</style>\n",
       "<table border=\"1\" class=\"dataframe\">\n",
       "  <thead>\n",
       "    <tr style=\"text-align: right;\">\n",
       "      <th></th>\n",
       "      <th>gene</th>\n",
       "      <th>delta_degron_potential</th>\n",
       "      <th>pvalue</th>\n",
       "      <th>qvalue</th>\n",
       "      <th>ID</th>\n",
       "      <th>-log10(pvalue)</th>\n",
       "    </tr>\n",
       "  </thead>\n",
       "  <tbody>\n",
       "    <tr>\n",
       "      <th>9096</th>\n",
       "      <td>GATA3</td>\n",
       "      <td>-25.663700</td>\n",
       "      <td>0.0001</td>\n",
       "      <td>0.000000</td>\n",
       "      <td>GATA3_PANCAN</td>\n",
       "      <td>4.0</td>\n",
       "    </tr>\n",
       "    <tr>\n",
       "      <th>7255</th>\n",
       "      <td>GATA3</td>\n",
       "      <td>-23.088945</td>\n",
       "      <td>0.0001</td>\n",
       "      <td>0.000000</td>\n",
       "      <td>GATA3_BRCA</td>\n",
       "      <td>4.0</td>\n",
       "    </tr>\n",
       "    <tr>\n",
       "      <th>14693</th>\n",
       "      <td>PPM1D</td>\n",
       "      <td>-7.401094</td>\n",
       "      <td>0.0001</td>\n",
       "      <td>0.064103</td>\n",
       "      <td>PPM1D_PANCAN</td>\n",
       "      <td>4.0</td>\n",
       "    </tr>\n",
       "    <tr>\n",
       "      <th>16953</th>\n",
       "      <td>PRRG1</td>\n",
       "      <td>-5.565904</td>\n",
       "      <td>0.0001</td>\n",
       "      <td>0.000000</td>\n",
       "      <td>PRRG1_UCEC</td>\n",
       "      <td>4.0</td>\n",
       "    </tr>\n",
       "    <tr>\n",
       "      <th>3736</th>\n",
       "      <td>PIK3CA</td>\n",
       "      <td>-4.210133</td>\n",
       "      <td>0.0001</td>\n",
       "      <td>0.000000</td>\n",
       "      <td>PIK3CA_PANCAN</td>\n",
       "      <td>4.0</td>\n",
       "    </tr>\n",
       "    <tr>\n",
       "      <th>4909</th>\n",
       "      <td>NIPBL</td>\n",
       "      <td>-3.087368</td>\n",
       "      <td>0.0001</td>\n",
       "      <td>0.000000</td>\n",
       "      <td>NIPBL_UCEC</td>\n",
       "      <td>4.0</td>\n",
       "    </tr>\n",
       "    <tr>\n",
       "      <th>5298</th>\n",
       "      <td>BEND3</td>\n",
       "      <td>-2.076249</td>\n",
       "      <td>0.0001</td>\n",
       "      <td>0.000000</td>\n",
       "      <td>BEND3_UCEC</td>\n",
       "      <td>4.0</td>\n",
       "    </tr>\n",
       "    <tr>\n",
       "      <th>6996</th>\n",
       "      <td>DUSP16</td>\n",
       "      <td>-1.619639</td>\n",
       "      <td>0.0001</td>\n",
       "      <td>0.000000</td>\n",
       "      <td>DUSP16_COAD</td>\n",
       "      <td>4.0</td>\n",
       "    </tr>\n",
       "    <tr>\n",
       "      <th>8903</th>\n",
       "      <td>B4GALNT4</td>\n",
       "      <td>-1.610622</td>\n",
       "      <td>0.0001</td>\n",
       "      <td>0.000000</td>\n",
       "      <td>B4GALNT4_UCEC</td>\n",
       "      <td>4.0</td>\n",
       "    </tr>\n",
       "    <tr>\n",
       "      <th>5270</th>\n",
       "      <td>NPM1</td>\n",
       "      <td>-1.500067</td>\n",
       "      <td>0.0001</td>\n",
       "      <td>0.000000</td>\n",
       "      <td>NPM1_PANCAN</td>\n",
       "      <td>4.0</td>\n",
       "    </tr>\n",
       "    <tr>\n",
       "      <th>992</th>\n",
       "      <td>NPM1</td>\n",
       "      <td>-1.400934</td>\n",
       "      <td>0.0001</td>\n",
       "      <td>0.000000</td>\n",
       "      <td>NPM1_LAML</td>\n",
       "      <td>4.0</td>\n",
       "    </tr>\n",
       "    <tr>\n",
       "      <th>3220</th>\n",
       "      <td>KLF15</td>\n",
       "      <td>-1.193360</td>\n",
       "      <td>0.0001</td>\n",
       "      <td>0.000000</td>\n",
       "      <td>KLF15_LUSC</td>\n",
       "      <td>4.0</td>\n",
       "    </tr>\n",
       "  </tbody>\n",
       "</table>\n",
       "</div>"
      ],
      "text/plain": [
       "           gene  delta_degron_potential  pvalue    qvalue             ID  \\\n",
       "9096      GATA3              -25.663700  0.0001  0.000000   GATA3_PANCAN   \n",
       "7255      GATA3              -23.088945  0.0001  0.000000     GATA3_BRCA   \n",
       "14693     PPM1D               -7.401094  0.0001  0.064103   PPM1D_PANCAN   \n",
       "16953     PRRG1               -5.565904  0.0001  0.000000     PRRG1_UCEC   \n",
       "3736     PIK3CA               -4.210133  0.0001  0.000000  PIK3CA_PANCAN   \n",
       "4909      NIPBL               -3.087368  0.0001  0.000000     NIPBL_UCEC   \n",
       "5298      BEND3               -2.076249  0.0001  0.000000     BEND3_UCEC   \n",
       "6996     DUSP16               -1.619639  0.0001  0.000000    DUSP16_COAD   \n",
       "8903   B4GALNT4               -1.610622  0.0001  0.000000  B4GALNT4_UCEC   \n",
       "5270       NPM1               -1.500067  0.0001  0.000000    NPM1_PANCAN   \n",
       "992        NPM1               -1.400934  0.0001  0.000000      NPM1_LAML   \n",
       "3220      KLF15               -1.193360  0.0001  0.000000     KLF15_LUSC   \n",
       "\n",
       "       -log10(pvalue)  \n",
       "9096              4.0  \n",
       "7255              4.0  \n",
       "14693             4.0  \n",
       "16953             4.0  \n",
       "3736              4.0  \n",
       "4909              4.0  \n",
       "5298              4.0  \n",
       "6996              4.0  \n",
       "8903              4.0  \n",
       "5270              4.0  \n",
       "992               4.0  \n",
       "3220              4.0  "
      ]
     },
     "execution_count": 14,
     "metadata": {},
     "output_type": "execute_result"
    }
   ],
   "source": [
    "df_list = []\n",
    "mypattern = 'data/GPS/cterm_deepDegron_output_v2/*.txt'\n",
    "for f in glob.glob(mypattern):\n",
    "    ctype = os.path.basename(f)[:-4]\n",
    "    tmp = pd.read_csv(f, sep='\\t').rename(columns={'delta_reg_potential': 'delta_degron_potential'})\n",
    "    tmp[\"ID\"] = tmp['gene'] + '_' + ctype\n",
    "    df_list.append(tmp)\n",
    "\n",
    "# prepare result df\n",
    "result_df = pd.concat(df_list)\n",
    "result_df.loc[result_df['pvalue']==0, 'pvalue'] = 1. / 10000\n",
    "result_df['-log10(pvalue)'] = -np.log10(result_df['pvalue'])\n",
    "\n",
    "# show top results\n",
    "is_signif = result_df['qvalue']<0.1\n",
    "is_loss = result_df['delta_degron_potential'] < -1\n",
    "result_df[is_signif & is_loss].sort_values('delta_degron_potential')"
   ]
  },
  {
   "cell_type": "markdown",
   "metadata": {},
   "source": [
    "We next plot the results for every gene across all cancer types."
   ]
  },
  {
   "cell_type": "code",
   "execution_count": 4,
   "metadata": {},
   "outputs": [
    {
     "data": {
      "image/png": "[encoded data removed]",
      "text/plain": [
       "<matplotlib.figure.Figure at 0x10fbe89e8>"
      ]
     },
     "metadata": {},
     "output_type": "display_data"
    }
   ],
   "source": [
    "with sns.plotting_context('notebook', font_scale=1.2):\n",
    "    sns.scatterplot('-log10(pvalue)', 'delta_degron_potential', data=result_df, linewidth=0, s=35)\n",
    "    plt.gca().set_ylabel('Sum of delta degron potential')\n",
    "    plt.gca().set_xlim(0, 5)\n",
    "    plt.gcf().set_size_inches(6, 4)\n",
    "    plt.title('c-end degron', size=20)\n",
    "    plt.tight_layout()\n",
    "    #plt.savefig('figures/cterm_signif_genes.png')"
   ]
  },
  {
   "cell_type": "markdown",
   "metadata": {},
   "source": [
    "### N-terminal analysis\n",
    "\n",
    "We next wanted to see whether n-terminal degrons may be preferentially lost due to mutations in cancer."
   ]
  },
  {
   "cell_type": "code",
   "execution_count": 10,
   "metadata": {},
   "outputs": [
    {
     "data": {
      "text/html": [
       "<div>\n",
       "<style scoped>\n",
       "    .dataframe tbody tr th:only-of-type {\n",
       "        vertical-align: middle;\n",
       "    }\n",
       "\n",
       "    .dataframe tbody tr th {\n",
       "        vertical-align: top;\n",
       "    }\n",
       "\n",
       "    .dataframe thead th {\n",
       "        text-align: right;\n",
       "    }\n",
       "</style>\n",
       "<table border=\"1\" class=\"dataframe\">\n",
       "  <thead>\n",
       "    <tr style=\"text-align: right;\">\n",
       "      <th></th>\n",
       "      <th>gene</th>\n",
       "      <th>delta_degron_potential</th>\n",
       "      <th>pvalue</th>\n",
       "      <th>qvalue</th>\n",
       "      <th>ID</th>\n",
       "      <th>-log10(pvalue)</th>\n",
       "    </tr>\n",
       "  </thead>\n",
       "  <tbody>\n",
       "  </tbody>\n",
       "</table>\n",
       "</div>"
      ],
      "text/plain": [
       "Empty DataFrame\n",
       "Columns: [gene, delta_degron_potential, pvalue, qvalue, ID, -log10(pvalue)]\n",
       "Index: []"
      ]
     },
     "execution_count": 10,
     "metadata": {},
     "output_type": "execute_result"
    }
   ],
   "source": [
    "df_list = []\n",
    "mypattern = 'data/GPS/nterm_deepDegron_output/*.txt'\n",
    "for f in glob.glob(mypattern):\n",
    "    ctype = os.path.basename(f)[:-4]\n",
    "    tmp = pd.read_csv(f, sep='\\t').rename(columns={'delta_reg_potential': 'delta_degron_potential'})\n",
    "    tmp[\"ID\"] = tmp['gene'] + '_' + ctype\n",
    "    df_list.append(tmp)\n",
    "\n",
    "# prepare result df\n",
    "result_df = pd.concat(df_list)\n",
    "result_df.loc[result_df['pvalue']==0, 'pvalue'] = 1. / 10000\n",
    "result_df['-log10(pvalue)'] = -np.log10(result_df['pvalue'])\n",
    "\n",
    "# show top results\n",
    "is_signif = result_df['qvalue']<0.1\n",
    "is_loss = result_df['delta_degron_potential'] < -1\n",
    "result_df[is_signif & is_loss].sort_values('delta_degron_potential')"
   ]
  },
  {
   "cell_type": "markdown",
   "metadata": {},
   "source": [
    "Interestingly, as opposed to c-end degrons, we find no significant hits for n-end degrons."
   ]
  },
  {
   "cell_type": "code",
   "execution_count": 11,
   "metadata": {},
   "outputs": [
    {
     "data": {
      "image/png": "[encoded data removed]",
      "text/plain": [
       "<matplotlib.figure.Figure at 0x1a272e8d68>"
      ]
     },
     "metadata": {},
     "output_type": "display_data"
    }
   ],
   "source": [
    "with sns.plotting_context('notebook', font_scale=1.2):\n",
    "    sns.scatterplot('-log10(pvalue)', 'delta_degron_potential', data=result_df, linewidth=0, s=35)\n",
    "    plt.gca().set_ylabel('Sum of delta degron potential')\n",
    "    plt.gca().set_xlim(0, 5)\n",
    "    plt.gca().set_ylim(-25, 4)\n",
    "    plt.gcf().set_size_inches(6, 4)\n",
    "    plt.title('n-end degron', size=20)\n",
    "    plt.tight_layout()\n",
    "    plt.savefig('figures/nterm_signif_genes.png')"
   ]
  },
  {
   "cell_type": "markdown",
   "metadata": {},
   "source": [
    "### Suplementary tables"
   ]
  },
  {
   "cell_type": "code",
   "execution_count": 15,
   "metadata": {},
   "outputs": [],
   "source": [
    "# filter dataset\n",
    "is_loss = result_df['delta_degron_potential']<-1\n",
    "is_signif = result_df['qvalue']<0.1\n",
    "supp_table = result_df[is_loss & is_signif].sort_values('delta_degron_potential').copy()\n",
    "\n",
    "# format output\n",
    "supp_table['cancer type'] = supp_table['ID'].str.split('_', expand=True)[1]\n",
    "supp_table = supp_table.rename(columns={'delta_degron_potential': 'delta degron potential'})\n",
    "out_cols = ['gene', 'cancer type', 'delta degron potential', 'pvalue', 'qvalue']\n",
    "supp_table = supp_table[out_cols]\n",
    "\n",
    "# save output\n",
    "supp_table.to_excel('tables/TableS8.xlsx', sheet_name='deepDegron', index=False)"
   ]
  }
 ],
 "metadata": {
  "kernelspec": {
   "display_name": "Python 3",
   "language": "python",
   "name": "python3"
  },
  "language_info": {
   "codemirror_mode": {
    "name": "ipython",
    "version": 3
   },
   "file_extension": ".py",
   "mimetype": "text/x-python",
   "name": "python",
   "nbconvert_exporter": "python",
   "pygments_lexer": "ipython3",
   "version": "3.5.4"
  }
 },
 "nbformat": 4,
 "nbformat_minor": 2
}
